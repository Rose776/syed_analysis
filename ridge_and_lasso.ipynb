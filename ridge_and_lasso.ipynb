{
  "nbformat": 4,
  "nbformat_minor": 0,
  "metadata": {
    "colab": {
      "name": "ridge and lasso.ipynb",
      "provenance": []
    },
    "kernelspec": {
      "name": "python3",
      "display_name": "Python 3"
    },
    "language_info": {
      "name": "python"
    }
  },
  "cells": [
    {
      "cell_type": "code",
      "execution_count": 1,
      "metadata": {
        "id": "lTtoMlt-KkrU"
      },
      "outputs": [],
      "source": [
        "#import library\n",
        "import numpy as np\n",
        "import pandas as pd\n",
        "import matplotlib.pyplot as plt\n",
        "import seaborn as sns\n",
        "from sklearn.linear_model import Ridge\n",
        "from sklearn.preprocessing import StandardScaler\n",
        "from sklearn.model_selection import train_test_split"
      ]
    },
    {
      "cell_type": "code",
      "source": [
        "#importing data\n",
        "df=pd.read_csv(\"/content/virat koli.csv\")"
      ],
      "metadata": {
        "id": "ZPNWtd-6XsAw"
      },
      "execution_count": 2,
      "outputs": []
    },
    {
      "cell_type": "code",
      "source": [
        "#data info\n",
        "df.head()"
      ],
      "metadata": {
        "colab": {
          "base_uri": "https://localhost:8080/",
          "height": 206
        },
        "id": "Rq4NP3qIXzdI",
        "outputId": "0f13f93d-d20e-4fa5-afc3-beac45d3f76a"
      },
      "execution_count": 3,
      "outputs": [
        {
          "output_type": "execute_result",
          "data": {
            "text/plain": [
              "   Runs  BF  4s  6s     SR  Pos Dismissal  Inns   Opposition         Ground  \\\n",
              "0    12  22   1   0  54.54  2.0       lbw     1  v Sri Lanka       Dambulla   \n",
              "1    37  67   6   0  55.22  2.0    caught     2  v Sri Lanka       Dambulla   \n",
              "2    25  38   4   0  65.78  1.0   run out     1  v Sri Lanka  Colombo (RPS)   \n",
              "3    54  66   7   0  81.81  1.0    bowled     1  v Sri Lanka  Colombo (RPS)   \n",
              "4    31  46   3   1  67.39  1.0       lbw     2  v Sri Lanka  Colombo (RPS)   \n",
              "\n",
              "  Start Date  \n",
              "0  18-Aug-08  \n",
              "1  20-Aug-08  \n",
              "2  24-Aug-08  \n",
              "3  27-Aug-08  \n",
              "4  29-Aug-08  "
            ],
            "text/html": [
              "\n",
              "  <div id=\"df-7879f86e-1a86-46ad-9ea2-f43a47797061\">\n",
              "    <div class=\"colab-df-container\">\n",
              "      <div>\n",
              "<style scoped>\n",
              "    .dataframe tbody tr th:only-of-type {\n",
              "        vertical-align: middle;\n",
              "    }\n",
              "\n",
              "    .dataframe tbody tr th {\n",
              "        vertical-align: top;\n",
              "    }\n",
              "\n",
              "    .dataframe thead th {\n",
              "        text-align: right;\n",
              "    }\n",
              "</style>\n",
              "<table border=\"1\" class=\"dataframe\">\n",
              "  <thead>\n",
              "    <tr style=\"text-align: right;\">\n",
              "      <th></th>\n",
              "      <th>Runs</th>\n",
              "      <th>BF</th>\n",
              "      <th>4s</th>\n",
              "      <th>6s</th>\n",
              "      <th>SR</th>\n",
              "      <th>Pos</th>\n",
              "      <th>Dismissal</th>\n",
              "      <th>Inns</th>\n",
              "      <th>Opposition</th>\n",
              "      <th>Ground</th>\n",
              "      <th>Start Date</th>\n",
              "    </tr>\n",
              "  </thead>\n",
              "  <tbody>\n",
              "    <tr>\n",
              "      <th>0</th>\n",
              "      <td>12</td>\n",
              "      <td>22</td>\n",
              "      <td>1</td>\n",
              "      <td>0</td>\n",
              "      <td>54.54</td>\n",
              "      <td>2.0</td>\n",
              "      <td>lbw</td>\n",
              "      <td>1</td>\n",
              "      <td>v Sri Lanka</td>\n",
              "      <td>Dambulla</td>\n",
              "      <td>18-Aug-08</td>\n",
              "    </tr>\n",
              "    <tr>\n",
              "      <th>1</th>\n",
              "      <td>37</td>\n",
              "      <td>67</td>\n",
              "      <td>6</td>\n",
              "      <td>0</td>\n",
              "      <td>55.22</td>\n",
              "      <td>2.0</td>\n",
              "      <td>caught</td>\n",
              "      <td>2</td>\n",
              "      <td>v Sri Lanka</td>\n",
              "      <td>Dambulla</td>\n",
              "      <td>20-Aug-08</td>\n",
              "    </tr>\n",
              "    <tr>\n",
              "      <th>2</th>\n",
              "      <td>25</td>\n",
              "      <td>38</td>\n",
              "      <td>4</td>\n",
              "      <td>0</td>\n",
              "      <td>65.78</td>\n",
              "      <td>1.0</td>\n",
              "      <td>run out</td>\n",
              "      <td>1</td>\n",
              "      <td>v Sri Lanka</td>\n",
              "      <td>Colombo (RPS)</td>\n",
              "      <td>24-Aug-08</td>\n",
              "    </tr>\n",
              "    <tr>\n",
              "      <th>3</th>\n",
              "      <td>54</td>\n",
              "      <td>66</td>\n",
              "      <td>7</td>\n",
              "      <td>0</td>\n",
              "      <td>81.81</td>\n",
              "      <td>1.0</td>\n",
              "      <td>bowled</td>\n",
              "      <td>1</td>\n",
              "      <td>v Sri Lanka</td>\n",
              "      <td>Colombo (RPS)</td>\n",
              "      <td>27-Aug-08</td>\n",
              "    </tr>\n",
              "    <tr>\n",
              "      <th>4</th>\n",
              "      <td>31</td>\n",
              "      <td>46</td>\n",
              "      <td>3</td>\n",
              "      <td>1</td>\n",
              "      <td>67.39</td>\n",
              "      <td>1.0</td>\n",
              "      <td>lbw</td>\n",
              "      <td>2</td>\n",
              "      <td>v Sri Lanka</td>\n",
              "      <td>Colombo (RPS)</td>\n",
              "      <td>29-Aug-08</td>\n",
              "    </tr>\n",
              "  </tbody>\n",
              "</table>\n",
              "</div>\n",
              "      <button class=\"colab-df-convert\" onclick=\"convertToInteractive('df-7879f86e-1a86-46ad-9ea2-f43a47797061')\"\n",
              "              title=\"Convert this dataframe to an interactive table.\"\n",
              "              style=\"display:none;\">\n",
              "        \n",
              "  <svg xmlns=\"http://www.w3.org/2000/svg\" height=\"24px\"viewBox=\"0 0 24 24\"\n",
              "       width=\"24px\">\n",
              "    <path d=\"M0 0h24v24H0V0z\" fill=\"none\"/>\n",
              "    <path d=\"M18.56 5.44l.94 2.06.94-2.06 2.06-.94-2.06-.94-.94-2.06-.94 2.06-2.06.94zm-11 1L8.5 8.5l.94-2.06 2.06-.94-2.06-.94L8.5 2.5l-.94 2.06-2.06.94zm10 10l.94 2.06.94-2.06 2.06-.94-2.06-.94-.94-2.06-.94 2.06-2.06.94z\"/><path d=\"M17.41 7.96l-1.37-1.37c-.4-.4-.92-.59-1.43-.59-.52 0-1.04.2-1.43.59L10.3 9.45l-7.72 7.72c-.78.78-.78 2.05 0 2.83L4 21.41c.39.39.9.59 1.41.59.51 0 1.02-.2 1.41-.59l7.78-7.78 2.81-2.81c.8-.78.8-2.07 0-2.86zM5.41 20L4 18.59l7.72-7.72 1.47 1.35L5.41 20z\"/>\n",
              "  </svg>\n",
              "      </button>\n",
              "      \n",
              "  <style>\n",
              "    .colab-df-container {\n",
              "      display:flex;\n",
              "      flex-wrap:wrap;\n",
              "      gap: 12px;\n",
              "    }\n",
              "\n",
              "    .colab-df-convert {\n",
              "      background-color: #E8F0FE;\n",
              "      border: none;\n",
              "      border-radius: 50%;\n",
              "      cursor: pointer;\n",
              "      display: none;\n",
              "      fill: #1967D2;\n",
              "      height: 32px;\n",
              "      padding: 0 0 0 0;\n",
              "      width: 32px;\n",
              "    }\n",
              "\n",
              "    .colab-df-convert:hover {\n",
              "      background-color: #E2EBFA;\n",
              "      box-shadow: 0px 1px 2px rgba(60, 64, 67, 0.3), 0px 1px 3px 1px rgba(60, 64, 67, 0.15);\n",
              "      fill: #174EA6;\n",
              "    }\n",
              "\n",
              "    [theme=dark] .colab-df-convert {\n",
              "      background-color: #3B4455;\n",
              "      fill: #D2E3FC;\n",
              "    }\n",
              "\n",
              "    [theme=dark] .colab-df-convert:hover {\n",
              "      background-color: #434B5C;\n",
              "      box-shadow: 0px 1px 3px 1px rgba(0, 0, 0, 0.15);\n",
              "      filter: drop-shadow(0px 1px 2px rgba(0, 0, 0, 0.3));\n",
              "      fill: #FFFFFF;\n",
              "    }\n",
              "  </style>\n",
              "\n",
              "      <script>\n",
              "        const buttonEl =\n",
              "          document.querySelector('#df-7879f86e-1a86-46ad-9ea2-f43a47797061 button.colab-df-convert');\n",
              "        buttonEl.style.display =\n",
              "          google.colab.kernel.accessAllowed ? 'block' : 'none';\n",
              "\n",
              "        async function convertToInteractive(key) {\n",
              "          const element = document.querySelector('#df-7879f86e-1a86-46ad-9ea2-f43a47797061');\n",
              "          const dataTable =\n",
              "            await google.colab.kernel.invokeFunction('convertToInteractive',\n",
              "                                                     [key], {});\n",
              "          if (!dataTable) return;\n",
              "\n",
              "          const docLinkHtml = 'Like what you see? Visit the ' +\n",
              "            '<a target=\"_blank\" href=https://colab.research.google.com/notebooks/data_table.ipynb>data table notebook</a>'\n",
              "            + ' to learn more about interactive tables.';\n",
              "          element.innerHTML = '';\n",
              "          dataTable['output_type'] = 'display_data';\n",
              "          await google.colab.output.renderOutput(dataTable, element);\n",
              "          const docLink = document.createElement('div');\n",
              "          docLink.innerHTML = docLinkHtml;\n",
              "          element.appendChild(docLink);\n",
              "        }\n",
              "      </script>\n",
              "    </div>\n",
              "  </div>\n",
              "  "
            ]
          },
          "metadata": {},
          "execution_count": 3
        }
      ]
    },
    {
      "cell_type": "code",
      "source": [
        "#checking null values\n",
        "df.isnull().sum()"
      ],
      "metadata": {
        "colab": {
          "base_uri": "https://localhost:8080/"
        },
        "id": "g0934NQ2X2pM",
        "outputId": "c197b985-fec0-4aeb-8886-f96f4b17cc44"
      },
      "execution_count": 5,
      "outputs": [
        {
          "output_type": "execute_result",
          "data": {
            "text/plain": [
              "Runs          0\n",
              "BF            0\n",
              "4s            0\n",
              "6s            0\n",
              "SR            0\n",
              "Pos           0\n",
              "Dismissal     0\n",
              "Inns          0\n",
              "Opposition    0\n",
              "Ground        0\n",
              "Start Date    0\n",
              "dtype: int64"
            ]
          },
          "metadata": {},
          "execution_count": 5
        }
      ]
    },
    {
      "cell_type": "code",
      "source": [
        "#feature selection\n",
        "df_sec=df.select_dtypes(exclude=[\"object\"])"
      ],
      "metadata": {
        "id": "UUvNWSI0X6J5"
      },
      "execution_count": 7,
      "outputs": []
    },
    {
      "cell_type": "code",
      "source": [
        "df_sec"
      ],
      "metadata": {
        "colab": {
          "base_uri": "https://localhost:8080/",
          "height": 423
        },
        "id": "FT_brCq5YNJu",
        "outputId": "51920e99-88c8-4d70-fccb-5d72c6b8d013"
      },
      "execution_count": 8,
      "outputs": [
        {
          "output_type": "execute_result",
          "data": {
            "text/plain": [
              "     Runs   BF  4s  6s      SR  Pos  Inns\n",
              "0      12   22   1   0   54.54  2.0     1\n",
              "1      37   67   6   0   55.22  2.0     2\n",
              "2      25   38   4   0   65.78  1.0     1\n",
              "3      54   66   7   0   81.81  1.0     1\n",
              "4      31   46   3   1   67.39  1.0     2\n",
              "..    ...  ...  ..  ..     ...  ...   ...\n",
              "127    45   51   2   1   88.23  3.0     2\n",
              "128    65   76   2   1   85.52  3.0     1\n",
              "129   122  105   8   5  116.19  3.0     2\n",
              "130     8    5   2   0  160.00  3.0     1\n",
              "131    55   63   8   0   87.30  3.0     2\n",
              "\n",
              "[132 rows x 7 columns]"
            ],
            "text/html": [
              "\n",
              "  <div id=\"df-7eb3919d-1b77-42ca-8fc0-b59a92093447\">\n",
              "    <div class=\"colab-df-container\">\n",
              "      <div>\n",
              "<style scoped>\n",
              "    .dataframe tbody tr th:only-of-type {\n",
              "        vertical-align: middle;\n",
              "    }\n",
              "\n",
              "    .dataframe tbody tr th {\n",
              "        vertical-align: top;\n",
              "    }\n",
              "\n",
              "    .dataframe thead th {\n",
              "        text-align: right;\n",
              "    }\n",
              "</style>\n",
              "<table border=\"1\" class=\"dataframe\">\n",
              "  <thead>\n",
              "    <tr style=\"text-align: right;\">\n",
              "      <th></th>\n",
              "      <th>Runs</th>\n",
              "      <th>BF</th>\n",
              "      <th>4s</th>\n",
              "      <th>6s</th>\n",
              "      <th>SR</th>\n",
              "      <th>Pos</th>\n",
              "      <th>Inns</th>\n",
              "    </tr>\n",
              "  </thead>\n",
              "  <tbody>\n",
              "    <tr>\n",
              "      <th>0</th>\n",
              "      <td>12</td>\n",
              "      <td>22</td>\n",
              "      <td>1</td>\n",
              "      <td>0</td>\n",
              "      <td>54.54</td>\n",
              "      <td>2.0</td>\n",
              "      <td>1</td>\n",
              "    </tr>\n",
              "    <tr>\n",
              "      <th>1</th>\n",
              "      <td>37</td>\n",
              "      <td>67</td>\n",
              "      <td>6</td>\n",
              "      <td>0</td>\n",
              "      <td>55.22</td>\n",
              "      <td>2.0</td>\n",
              "      <td>2</td>\n",
              "    </tr>\n",
              "    <tr>\n",
              "      <th>2</th>\n",
              "      <td>25</td>\n",
              "      <td>38</td>\n",
              "      <td>4</td>\n",
              "      <td>0</td>\n",
              "      <td>65.78</td>\n",
              "      <td>1.0</td>\n",
              "      <td>1</td>\n",
              "    </tr>\n",
              "    <tr>\n",
              "      <th>3</th>\n",
              "      <td>54</td>\n",
              "      <td>66</td>\n",
              "      <td>7</td>\n",
              "      <td>0</td>\n",
              "      <td>81.81</td>\n",
              "      <td>1.0</td>\n",
              "      <td>1</td>\n",
              "    </tr>\n",
              "    <tr>\n",
              "      <th>4</th>\n",
              "      <td>31</td>\n",
              "      <td>46</td>\n",
              "      <td>3</td>\n",
              "      <td>1</td>\n",
              "      <td>67.39</td>\n",
              "      <td>1.0</td>\n",
              "      <td>2</td>\n",
              "    </tr>\n",
              "    <tr>\n",
              "      <th>...</th>\n",
              "      <td>...</td>\n",
              "      <td>...</td>\n",
              "      <td>...</td>\n",
              "      <td>...</td>\n",
              "      <td>...</td>\n",
              "      <td>...</td>\n",
              "      <td>...</td>\n",
              "    </tr>\n",
              "    <tr>\n",
              "      <th>127</th>\n",
              "      <td>45</td>\n",
              "      <td>51</td>\n",
              "      <td>2</td>\n",
              "      <td>1</td>\n",
              "      <td>88.23</td>\n",
              "      <td>3.0</td>\n",
              "      <td>2</td>\n",
              "    </tr>\n",
              "    <tr>\n",
              "      <th>128</th>\n",
              "      <td>65</td>\n",
              "      <td>76</td>\n",
              "      <td>2</td>\n",
              "      <td>1</td>\n",
              "      <td>85.52</td>\n",
              "      <td>3.0</td>\n",
              "      <td>1</td>\n",
              "    </tr>\n",
              "    <tr>\n",
              "      <th>129</th>\n",
              "      <td>122</td>\n",
              "      <td>105</td>\n",
              "      <td>8</td>\n",
              "      <td>5</td>\n",
              "      <td>116.19</td>\n",
              "      <td>3.0</td>\n",
              "      <td>2</td>\n",
              "    </tr>\n",
              "    <tr>\n",
              "      <th>130</th>\n",
              "      <td>8</td>\n",
              "      <td>5</td>\n",
              "      <td>2</td>\n",
              "      <td>0</td>\n",
              "      <td>160.00</td>\n",
              "      <td>3.0</td>\n",
              "      <td>1</td>\n",
              "    </tr>\n",
              "    <tr>\n",
              "      <th>131</th>\n",
              "      <td>55</td>\n",
              "      <td>63</td>\n",
              "      <td>8</td>\n",
              "      <td>0</td>\n",
              "      <td>87.30</td>\n",
              "      <td>3.0</td>\n",
              "      <td>2</td>\n",
              "    </tr>\n",
              "  </tbody>\n",
              "</table>\n",
              "<p>132 rows × 7 columns</p>\n",
              "</div>\n",
              "      <button class=\"colab-df-convert\" onclick=\"convertToInteractive('df-7eb3919d-1b77-42ca-8fc0-b59a92093447')\"\n",
              "              title=\"Convert this dataframe to an interactive table.\"\n",
              "              style=\"display:none;\">\n",
              "        \n",
              "  <svg xmlns=\"http://www.w3.org/2000/svg\" height=\"24px\"viewBox=\"0 0 24 24\"\n",
              "       width=\"24px\">\n",
              "    <path d=\"M0 0h24v24H0V0z\" fill=\"none\"/>\n",
              "    <path d=\"M18.56 5.44l.94 2.06.94-2.06 2.06-.94-2.06-.94-.94-2.06-.94 2.06-2.06.94zm-11 1L8.5 8.5l.94-2.06 2.06-.94-2.06-.94L8.5 2.5l-.94 2.06-2.06.94zm10 10l.94 2.06.94-2.06 2.06-.94-2.06-.94-.94-2.06-.94 2.06-2.06.94z\"/><path d=\"M17.41 7.96l-1.37-1.37c-.4-.4-.92-.59-1.43-.59-.52 0-1.04.2-1.43.59L10.3 9.45l-7.72 7.72c-.78.78-.78 2.05 0 2.83L4 21.41c.39.39.9.59 1.41.59.51 0 1.02-.2 1.41-.59l7.78-7.78 2.81-2.81c.8-.78.8-2.07 0-2.86zM5.41 20L4 18.59l7.72-7.72 1.47 1.35L5.41 20z\"/>\n",
              "  </svg>\n",
              "      </button>\n",
              "      \n",
              "  <style>\n",
              "    .colab-df-container {\n",
              "      display:flex;\n",
              "      flex-wrap:wrap;\n",
              "      gap: 12px;\n",
              "    }\n",
              "\n",
              "    .colab-df-convert {\n",
              "      background-color: #E8F0FE;\n",
              "      border: none;\n",
              "      border-radius: 50%;\n",
              "      cursor: pointer;\n",
              "      display: none;\n",
              "      fill: #1967D2;\n",
              "      height: 32px;\n",
              "      padding: 0 0 0 0;\n",
              "      width: 32px;\n",
              "    }\n",
              "\n",
              "    .colab-df-convert:hover {\n",
              "      background-color: #E2EBFA;\n",
              "      box-shadow: 0px 1px 2px rgba(60, 64, 67, 0.3), 0px 1px 3px 1px rgba(60, 64, 67, 0.15);\n",
              "      fill: #174EA6;\n",
              "    }\n",
              "\n",
              "    [theme=dark] .colab-df-convert {\n",
              "      background-color: #3B4455;\n",
              "      fill: #D2E3FC;\n",
              "    }\n",
              "\n",
              "    [theme=dark] .colab-df-convert:hover {\n",
              "      background-color: #434B5C;\n",
              "      box-shadow: 0px 1px 3px 1px rgba(0, 0, 0, 0.15);\n",
              "      filter: drop-shadow(0px 1px 2px rgba(0, 0, 0, 0.3));\n",
              "      fill: #FFFFFF;\n",
              "    }\n",
              "  </style>\n",
              "\n",
              "      <script>\n",
              "        const buttonEl =\n",
              "          document.querySelector('#df-7eb3919d-1b77-42ca-8fc0-b59a92093447 button.colab-df-convert');\n",
              "        buttonEl.style.display =\n",
              "          google.colab.kernel.accessAllowed ? 'block' : 'none';\n",
              "\n",
              "        async function convertToInteractive(key) {\n",
              "          const element = document.querySelector('#df-7eb3919d-1b77-42ca-8fc0-b59a92093447');\n",
              "          const dataTable =\n",
              "            await google.colab.kernel.invokeFunction('convertToInteractive',\n",
              "                                                     [key], {});\n",
              "          if (!dataTable) return;\n",
              "\n",
              "          const docLinkHtml = 'Like what you see? Visit the ' +\n",
              "            '<a target=\"_blank\" href=https://colab.research.google.com/notebooks/data_table.ipynb>data table notebook</a>'\n",
              "            + ' to learn more about interactive tables.';\n",
              "          element.innerHTML = '';\n",
              "          dataTable['output_type'] = 'display_data';\n",
              "          await google.colab.output.renderOutput(dataTable, element);\n",
              "          const docLink = document.createElement('div');\n",
              "          docLink.innerHTML = docLinkHtml;\n",
              "          element.appendChild(docLink);\n",
              "        }\n",
              "      </script>\n",
              "    </div>\n",
              "  </div>\n",
              "  "
            ]
          },
          "metadata": {},
          "execution_count": 8
        }
      ]
    },
    {
      "cell_type": "code",
      "source": [
        "df_sec.columns"
      ],
      "metadata": {
        "colab": {
          "base_uri": "https://localhost:8080/"
        },
        "id": "J0PgeYk5YRuh",
        "outputId": "3aa340b1-8f7b-4400-c3a6-edd303bb3a9a"
      },
      "execution_count": 9,
      "outputs": [
        {
          "output_type": "execute_result",
          "data": {
            "text/plain": [
              "Index(['Runs', 'BF', '4s', '6s', 'SR', 'Pos', 'Inns'], dtype='object')"
            ]
          },
          "metadata": {},
          "execution_count": 9
        }
      ]
    },
    {
      "cell_type": "code",
      "source": [
        "# split x and y\n",
        "x=df_sec[['BF', '4s', '6s', 'SR', 'Pos', 'Inns']]\n",
        "y=df_sec[\"Runs\"]"
      ],
      "metadata": {
        "id": "HROCJAPGYYpR"
      },
      "execution_count": 10,
      "outputs": []
    },
    {
      "cell_type": "code",
      "source": [
        "#scaling\n",
        "scaler=StandardScaler()\n"
      ],
      "metadata": {
        "id": "bJWL-yJ3Ym3i"
      },
      "execution_count": 11,
      "outputs": []
    },
    {
      "cell_type": "code",
      "source": [
        "#train_test_split\n",
        "from sklearn.model_selection  import train_test_split\n",
        "x_train,x_test,y_train,y_test=train_test_split(x,y,random_state=42,train_size=0.7)\n"
      ],
      "metadata": {
        "id": "SAXORucyZByS"
      },
      "execution_count": 17,
      "outputs": []
    },
    {
      "cell_type": "code",
      "source": [
        "# scale fit and Transform\n",
        "scaler.fit_transform(x_train)\n",
        "scaler.transform(x_test)"
      ],
      "metadata": {
        "colab": {
          "base_uri": "https://localhost:8080/"
        },
        "id": "7o-3KXiGZIGd",
        "outputId": "835deb03-6729-4688-80a7-1f9013f25d8b"
      },
      "execution_count": 18,
      "outputs": [
        {
          "output_type": "execute_result",
          "data": {
            "text/plain": [
              "array([[-1.03092693e+00, -2.86281209e-01, -4.94048419e-01,\n",
              "         3.89459138e+00,  2.83084504e+00, -1.14017543e+00],\n",
              "       [ 9.23129258e-02,  8.89516615e-01,  7.87877216e+00,\n",
              "         3.39971402e+00, -3.97722030e-01,  8.77058019e-01],\n",
              "       [-1.25009569e+00, -9.91759904e-01, -4.94048419e-01,\n",
              "        -2.26823808e+00, -3.97722030e-01,  8.77058019e-01],\n",
              "       [-1.16790740e+00, -9.91759904e-01, -4.94048419e-01,\n",
              "        -1.28585200e+00, -3.97722030e-01,  8.77058019e-01],\n",
              "       [-4.00816768e-01, -5.11216445e-02,  7.02068806e-01,\n",
              "         1.45940572e+00, -3.97722030e-01, -1.14017543e+00],\n",
              "       [ 2.50316921e+00,  4.19197485e-01,  5.48653771e+00,\n",
              "         6.37066334e-01, -3.97722030e-01, -1.14017543e+00],\n",
              "       [-5.10401145e-01, -2.86281209e-01, -4.94048419e-01,\n",
              "        -3.03465915e-01,  6.78466993e-01,  8.77058019e-01],\n",
              "       [ 7.49819184e-01, -5.21440774e-01,  7.02068806e-01,\n",
              "         2.52423719e-01, -3.97722030e-01, -1.14017543e+00],\n",
              "       [-1.19530350e+00, -9.91759904e-01, -4.94048419e-01,\n",
              "        -1.67874748e+00, -3.97722030e-01, -1.14017543e+00],\n",
              "       [-1.11311522e+00, -9.91759904e-01, -4.94048419e-01,\n",
              "        -1.53137483e+00, -3.97722030e-01,  8.77058019e-01],\n",
              "       [ 1.51690982e+00,  1.35983574e+00, -4.94048419e-01,\n",
              "         3.95669934e-01, -3.97722030e-01, -1.14017543e+00],\n",
              "       [ 5.85442620e-01, -5.21440774e-01,  7.02068806e-01,\n",
              "         5.42715800e-03, -3.97722030e-01,  8.77058019e-01],\n",
              "       [ 1.21555278e+00,  1.12467618e+00,  7.02068806e-01,\n",
              "         1.12280659e+00,  6.78466993e-01, -1.14017543e+00],\n",
              "       [-7.20636389e-02, -2.86281209e-01,  7.02068806e-01,\n",
              "        -2.81949508e-01, -2.55010008e+00,  8.77058019e-01],\n",
              "       [ 3.75207376e-02, -5.21440774e-01,  7.02068806e-01,\n",
              "         8.97243135e-02, -3.97722030e-01,  8.77058019e-01],\n",
              "       [-1.19530350e+00, -9.91759904e-01, -4.94048419e-01,\n",
              "        -1.08925688e+00, -3.97722030e-01,  8.77058019e-01],\n",
              "       [ 7.49819184e-01,  1.84037920e-01, -4.94048419e-01,\n",
              "         1.98696777e-02, -3.97722030e-01, -1.14017543e+00],\n",
              "       [ 1.07857231e+00,  1.84037920e-01,  7.02068806e-01,\n",
              "         9.25884689e-03, -3.97722030e-01,  8.77058019e-01],\n",
              "       [-1.11311522e+00, -9.91759904e-01, -4.94048419e-01,\n",
              "        -1.53137483e+00, -3.97722030e-01,  8.77058019e-01],\n",
              "       [ 9.14195749e-01,  1.84037920e-01, -4.94048419e-01,\n",
              "         1.03872088e-01, -3.97722030e-01, -1.14017543e+00],\n",
              "       [-4.00816768e-01, -5.11216445e-02, -4.94048419e-01,\n",
              "         1.58989459e-01, -3.97722030e-01, -1.14017543e+00],\n",
              "       [ 1.79087076e+00,  1.59499531e+00,  7.02068806e-01,\n",
              "         4.97946553e-01,  6.78466993e-01,  8.77058019e-01],\n",
              "       [-1.30488787e+00, -9.91759904e-01, -4.94048419e-01,\n",
              "        -2.26823808e+00, -3.97722030e-01,  8.77058019e-01],\n",
              "       [ 1.46211763e+00,  6.54357050e-01, -4.94048419e-01,\n",
              "         3.61184734e-01, -3.97722030e-01,  8.77058019e-01],\n",
              "       [ 2.11962389e+00,  1.83015487e+00,  3.09430326e+00,\n",
              "         9.83097315e-01,  6.78466993e-01,  8.77058019e-01],\n",
              "       [ 4.48462149e-01, -5.21440774e-01, -4.94048419e-01,\n",
              "        -5.45157060e-01, -3.97722030e-01,  8.77058019e-01],\n",
              "       [ 6.49168317e-02, -5.21440774e-01,  7.02068806e-01,\n",
              "         3.32299695e-01, -3.97722030e-01,  8.77058019e-01],\n",
              "       [ 8.04611373e-01,  6.54357050e-01,  3.09430326e+00,\n",
              "         8.30124504e-01, -3.97722030e-01,  8.77058019e-01],\n",
              "       [ 2.01003951e+00,  2.77079313e+00,  1.89818603e+00,\n",
              "         1.01728777e+00, -3.97722030e-01,  8.77058019e-01],\n",
              "       [-7.29569898e-01, -7.56600339e-01, -4.94048419e-01,\n",
              "        -6.60697218e-01, -1.47391105e+00, -1.14017543e+00],\n",
              "       [ 1.27034497e+00,  1.59499531e+00, -4.94048419e-01,\n",
              "         8.96147451e-01, -3.97722030e-01,  8.77058019e-01],\n",
              "       [ 2.33879264e+00,  2.77079313e+00,  7.02068806e-01,\n",
              "         1.11897490e+00, -3.97722030e-01,  8.77058019e-01],\n",
              "       [-8.66550368e-01, -7.56600339e-01, -4.94048419e-01,\n",
              "        -1.05477168e+00, -3.97722030e-01, -1.14017543e+00],\n",
              "       [ 5.85442620e-01,  4.19197485e-01,  1.89818603e+00,\n",
              "         3.84469612e-01, -3.97722030e-01,  8.77058019e-01],\n",
              "       [-8.39154274e-01, -5.21440774e-01, -4.94048419e-01,\n",
              "         2.39961118e-02, -3.97722030e-01, -1.14017543e+00],\n",
              "       [-8.39154274e-01, -9.91759904e-01, -4.94048419e-01,\n",
              "        -4.67049556e-01,  6.78466993e-01,  8.77058019e-01],\n",
              "       [ 1.37992935e+00,  1.59499531e+00, -4.94048419e-01,\n",
              "         2.91919589e-01,  6.78466993e-01,  8.77058019e-01],\n",
              "       [-1.33228397e+00, -9.91759904e-01, -4.94048419e-01,\n",
              "        -2.26823808e+00, -3.97722030e-01, -1.14017543e+00],\n",
              "       [ 9.41591843e-01,  2.06531444e+00,  1.89818603e+00,\n",
              "         1.35388690e+00, -3.97722030e-01, -1.14017543e+00],\n",
              "       [-1.19530350e+00, -9.91759904e-01, -4.94048419e-01,\n",
              "        -2.26823808e+00, -3.97722030e-01, -1.14017543e+00]])"
            ]
          },
          "metadata": {},
          "execution_count": 18
        }
      ]
    },
    {
      "cell_type": "code",
      "source": [
        "#ridge\n",
        "ridge=Ridge()"
      ],
      "metadata": {
        "id": "5zGbzVnTZPdX"
      },
      "execution_count": 19,
      "outputs": []
    },
    {
      "cell_type": "code",
      "source": [
        "#parameter for alpha values\n",
        "parameter={\"alpha\":[1,2,3,4,5,6,7,67,8,55,10,20]}"
      ],
      "metadata": {
        "id": "qCdoGvsMaEc6"
      },
      "execution_count": 20,
      "outputs": []
    },
    {
      "cell_type": "code",
      "source": [
        "#GridSearchCV\n",
        "from sklearn.model_selection import GridSearchCV"
      ],
      "metadata": {
        "id": "VnlFZtqvagFj"
      },
      "execution_count": 22,
      "outputs": []
    },
    {
      "cell_type": "code",
      "source": [
        "#ridgecv parameter fitting\n",
        "ridgecv=GridSearchCV(ridge,parameter,scoring='neg_mean_squared_error',cv=10)"
      ],
      "metadata": {
        "id": "gdYAPhu2aOab"
      },
      "execution_count": 23,
      "outputs": []
    },
    {
      "cell_type": "code",
      "source": [
        "#Training the model\n",
        "ridgecv.fit(x_train,y_train)"
      ],
      "metadata": {
        "colab": {
          "base_uri": "https://localhost:8080/"
        },
        "id": "DAhH0wTHabUX",
        "outputId": "8735679f-42df-443d-d91a-91ed3352e5d6"
      },
      "execution_count": 24,
      "outputs": [
        {
          "output_type": "execute_result",
          "data": {
            "text/plain": [
              "GridSearchCV(cv=10, estimator=Ridge(),\n",
              "             param_grid={'alpha': [1, 2, 3, 4, 5, 6, 7, 67, 8, 55, 10, 20]},\n",
              "             scoring='neg_mean_squared_error')"
            ]
          },
          "metadata": {},
          "execution_count": 24
        }
      ]
    },
    {
      "cell_type": "code",
      "source": [
        "# Best alpha value\n",
        "ridgecv.best_params_"
      ],
      "metadata": {
        "colab": {
          "base_uri": "https://localhost:8080/"
        },
        "id": "jyjqq5NlaqC2",
        "outputId": "59152efd-063c-42a6-9b0b-f6a895ee4bba"
      },
      "execution_count": 25,
      "outputs": [
        {
          "output_type": "execute_result",
          "data": {
            "text/plain": [
              "{'alpha': 3}"
            ]
          },
          "metadata": {},
          "execution_count": 25
        }
      ]
    },
    {
      "cell_type": "code",
      "source": [
        "#best score\n",
        "ridgecv.best_score_"
      ],
      "metadata": {
        "colab": {
          "base_uri": "https://localhost:8080/"
        },
        "id": "nX0nXnNyatSy",
        "outputId": "538c5ce9-0a2f-42bc-b383-5ff7c17b28d2"
      },
      "execution_count": 26,
      "outputs": [
        {
          "output_type": "execute_result",
          "data": {
            "text/plain": [
              "-35.53085392514167"
            ]
          },
          "metadata": {},
          "execution_count": 26
        }
      ]
    },
    {
      "cell_type": "code",
      "source": [
        "#prediction\n",
        "rid_pre=ridgecv.predict(x_test)"
      ],
      "metadata": {
        "id": "Uj6qyxpUaxeP"
      },
      "execution_count": 28,
      "outputs": []
    },
    {
      "cell_type": "markdown",
      "source": [
        "# The variance is about -20 15"
      ],
      "metadata": {
        "id": "qHqRU7t1esMB"
      }
    },
    {
      "cell_type": "code",
      "source": [
        "#plotting\n",
        "sns.displot(rid_pre-y_test,kind=\"kde\")"
      ],
      "metadata": {
        "colab": {
          "base_uri": "https://localhost:8080/",
          "height": 389
        },
        "id": "4QvJIEIDa5-t",
        "outputId": "d86e8891-3cd0-4c39-d4f4-787164b4f556"
      },
      "execution_count": 31,
      "outputs": [
        {
          "output_type": "execute_result",
          "data": {
            "text/plain": [
              "<seaborn.axisgrid.FacetGrid at 0x7fb933305450>"
            ]
          },
          "metadata": {},
          "execution_count": 31
        },
        {
          "output_type": "display_data",
          "data": {
            "text/plain": [
              "<Figure size 360x360 with 1 Axes>"
            ],
            "image/png": "[encoded data removed]"
          },
          "metadata": {
            "needs_background": "light"
          }
        }
      ]
    },
    {
      "cell_type": "code",
      "source": [
        "#importing R2 score\n",
        "from sklearn.metrics import r2_score"
      ],
      "metadata": {
        "id": "V8UqfhVzbGkg"
      },
      "execution_count": 32,
      "outputs": []
    },
    {
      "cell_type": "code",
      "source": [
        "#r2 score\n",
        "score=r2_score(rid_pre,y_test)"
      ],
      "metadata": {
        "id": "ea-HNUZdbXbj"
      },
      "execution_count": 34,
      "outputs": []
    },
    {
      "cell_type": "markdown",
      "source": [
        "# r_squared =0.99"
      ],
      "metadata": {
        "id": "o8tNRI45fAMl"
      }
    },
    {
      "cell_type": "code",
      "source": [
        "#r2 values\n",
        "score"
      ],
      "metadata": {
        "colab": {
          "base_uri": "https://localhost:8080/"
        },
        "id": "ymCt-sbQbbO0",
        "outputId": "88d1424c-5e41-4c73-c6bd-e6920f89eaaa"
      },
      "execution_count": 35,
      "outputs": [
        {
          "output_type": "execute_result",
          "data": {
            "text/plain": [
              "0.985781548172359"
            ]
          },
          "metadata": {},
          "execution_count": 35
        }
      ]
    },
    {
      "cell_type": "markdown",
      "source": [
        "# Lasso \n"
      ],
      "metadata": {
        "id": "cZEE-d36ciPw"
      }
    },
    {
      "cell_type": "code",
      "source": [
        "#importing Lasso Model\n",
        "from sklearn.linear_model import Lasso"
      ],
      "metadata": {
        "id": "4T24nYLncw_U"
      },
      "execution_count": 42,
      "outputs": []
    },
    {
      "cell_type": "code",
      "source": [
        "# Lasso\n",
        "lasso=Lasso()"
      ],
      "metadata": {
        "id": "Tpea8ozFcw3T"
      },
      "execution_count": 46,
      "outputs": []
    },
    {
      "cell_type": "code",
      "source": [
        "# fiitng GridSearchCv for finding best alpha value\n",
        "lassocv=GridSearchCV(lasso,parameter,scoring='neg_mean_squared_error',cv=10)"
      ],
      "metadata": {
        "id": "c9wwkYsIbgi5"
      },
      "execution_count": 47,
      "outputs": []
    },
    {
      "cell_type": "code",
      "source": [
        "#lasso model fitiing\n",
        "lassocv.fit(x_train,y_train)"
      ],
      "metadata": {
        "colab": {
          "base_uri": "https://localhost:8080/"
        },
        "id": "Df1MEkBVdeIM",
        "outputId": "6e9bd90c-c670-4426-8bde-b2fc16fcd48a"
      },
      "execution_count": 49,
      "outputs": [
        {
          "output_type": "execute_result",
          "data": {
            "text/plain": [
              "GridSearchCV(cv=10, estimator=Lasso(),\n",
              "             param_grid={'alpha': [1, 2, 3, 4, 5, 6, 7, 67, 8, 55, 10, 20]},\n",
              "             scoring='neg_mean_squared_error')"
            ]
          },
          "metadata": {},
          "execution_count": 49
        }
      ]
    },
    {
      "cell_type": "code",
      "source": [
        "#lasso best alpha =1\n",
        "lassocv.best_params_"
      ],
      "metadata": {
        "colab": {
          "base_uri": "https://localhost:8080/"
        },
        "id": "SjDpmnsadDWc",
        "outputId": "b32dd467-795f-4b94-ab29-78bf224682d6"
      },
      "execution_count": 50,
      "outputs": [
        {
          "output_type": "execute_result",
          "data": {
            "text/plain": [
              "{'alpha': 1}"
            ]
          },
          "metadata": {},
          "execution_count": 50
        }
      ]
    },
    {
      "cell_type": "code",
      "source": [
        "# lasso best score\n",
        "lassocv.best_score_"
      ],
      "metadata": {
        "colab": {
          "base_uri": "https://localhost:8080/"
        },
        "id": "frqAbKhidZ6C",
        "outputId": "bfccda44-088e-490f-c74b-84af14b0dace"
      },
      "execution_count": 51,
      "outputs": [
        {
          "output_type": "execute_result",
          "data": {
            "text/plain": [
              "-40.18115121956801"
            ]
          },
          "metadata": {},
          "execution_count": 51
        }
      ]
    },
    {
      "cell_type": "code",
      "source": [
        "#Lasso Prediction\n",
        "las_pre=lassocv.predict(x_test)"
      ],
      "metadata": {
        "id": "Cm3SBoTfdsZ8"
      },
      "execution_count": 52,
      "outputs": []
    },
    {
      "cell_type": "code",
      "source": [
        "# r-squared score \n",
        "score=r2_score(las_pre,y_test)"
      ],
      "metadata": {
        "id": "CT5gJDYQdoBy"
      },
      "execution_count": 53,
      "outputs": []
    },
    {
      "cell_type": "code",
      "source": [
        "score=r2_score(las_pre,y_test)\n"
      ],
      "metadata": {
        "id": "DC0omtLYd1HS"
      },
      "execution_count": 54,
      "outputs": []
    },
    {
      "cell_type": "markdown",
      "source": [
        "# r_squared =0.98"
      ],
      "metadata": {
        "id": "KAoHsuDwfxud"
      }
    },
    {
      "cell_type": "code",
      "source": [
        "score"
      ],
      "metadata": {
        "colab": {
          "base_uri": "https://localhost:8080/"
        },
        "id": "kk4-jveVd2jk",
        "outputId": "0cae4c14-1a8d-4357-f8ff-18d19d8d4e1f"
      },
      "execution_count": 55,
      "outputs": [
        {
          "output_type": "execute_result",
          "data": {
            "text/plain": [
              "0.982885608093623"
            ]
          },
          "metadata": {},
          "execution_count": 55
        }
      ]
    },
    {
      "cell_type": "markdown",
      "source": [
        "# The variance is -20 to 20"
      ],
      "metadata": {
        "id": "SoVZMV1if2HT"
      }
    },
    {
      "cell_type": "code",
      "source": [
        "sns.displot(las_pre-y_test,kind=\"kde\")"
      ],
      "metadata": {
        "colab": {
          "base_uri": "https://localhost:8080/",
          "height": 389
        },
        "id": "sfuvhcand4bL",
        "outputId": "de857ee5-5116-415e-8dd8-730c4bd289f9"
      },
      "execution_count": 56,
      "outputs": [
        {
          "output_type": "execute_result",
          "data": {
            "text/plain": [
              "<seaborn.axisgrid.FacetGrid at 0x7fb9310e7d10>"
            ]
          },
          "metadata": {},
          "execution_count": 56
        },
        {
          "output_type": "display_data",
          "data": {
            "text/plain": [
              "<Figure size 360x360 with 1 Axes>"
            ],
            "image/png": "[encoded data removed]"
          },
          "metadata": {
            "needs_background": "light"
          }
        }
      ]
    },
    {
      "cell_type": "code",
      "source": [
        ""
      ],
      "metadata": {
        "id": "a5SvNDRgd-dT"
      },
      "execution_count": null,
      "outputs": []
    }
  ]
}